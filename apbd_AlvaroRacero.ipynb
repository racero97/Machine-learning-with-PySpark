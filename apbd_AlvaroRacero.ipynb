{
 "cells": [
  {
   "cell_type": "markdown",
   "metadata": {
    "id": "u2P8jgsqzLFb"
   },
   "source": [
    "Entrega APBD: Spark\n",
    "\n",
    "> Master en Data Science y Big Data\n",
    "\n",
    "> Alumno: Alvaro Racero Armario\n",
    "\n",
    "\n",
    "\n",
    "\n"
   ]
  },
  {
   "cell_type": "markdown",
   "metadata": {
    "id": "Bn5PSDIONA6I"
   },
   "source": [
    "# Inicializamos el entorno virtual"
   ]
  },
  {
   "cell_type": "markdown",
   "metadata": {
    "id": "gbrQOjJgSxSV"
   },
   "source": [
    "Instalacion java y spark"
   ]
  },
  {
   "cell_type": "code",
   "execution_count": 1,
   "metadata": {
    "executionInfo": {
     "elapsed": 22582,
     "status": "ok",
     "timestamp": 1713551597132,
     "user": {
      "displayName": "Alvaro Racero Armario",
      "userId": "08455540552957370434"
     },
     "user_tz": -120
    },
    "id": "uUmS7sadNEtX"
   },
   "outputs": [],
   "source": [
    "!apt-get install openjdk-11-jdk-headless -qq > /dev/null\n",
    "!wget -q https://dlcdn.apache.org/spark/spark-3.5.1/spark-3.5.1-bin-hadoop3.tgz\n",
    "!tar xf spark-3.5.1-bin-hadoop3.tgz\n",
    "!pip install -q findspark"
   ]
  },
  {
   "cell_type": "code",
   "execution_count": 2,
   "metadata": {
    "executionInfo": {
     "elapsed": 3,
     "status": "ok",
     "timestamp": 1713551597132,
     "user": {
      "displayName": "Alvaro Racero Armario",
      "userId": "08455540552957370434"
     },
     "user_tz": -120
    },
    "id": "aFxUOgUGNPwO"
   },
   "outputs": [],
   "source": [
    "import os\n",
    "os.environ[\"JAVA_HOME\"] = \"/usr/lib/jvm/java-11-openjdk-amd64\"\n",
    "os.environ[\"SPARK_HOME\"] = \"/content/spark-3.5.1-bin-hadoop3\""
   ]
  },
  {
   "cell_type": "markdown",
   "metadata": {
    "id": "E5sc24KJS3Fl"
   },
   "source": [
    "Instalamos drive para acceder a los archivos y guardar el resultado"
   ]
  },
  {
   "cell_type": "code",
   "execution_count": 3,
   "metadata": {
    "colab": {
     "base_uri": "https://localhost:8080/"
    },
    "executionInfo": {
     "elapsed": 77235,
     "status": "ok",
     "timestamp": 1713551674365,
     "user": {
      "displayName": "Alvaro Racero Armario",
      "userId": "08455540552957370434"
     },
     "user_tz": -120
    },
    "id": "0Mmho5EINRpu",
    "outputId": "ae66b037-f1fd-4c94-b571-b437e94d566b"
   },
   "outputs": [
    {
     "name": "stdout",
     "output_type": "stream",
     "text": [
      "Mounted at /content/drive\n"
     ]
    }
   ],
   "source": [
    "from google.colab import drive\n",
    "drive.mount('/content/drive', force_remount=True)"
   ]
  },
  {
   "cell_type": "markdown",
   "metadata": {
    "id": "XwuxLv8IVwfd"
   },
   "source": [
    "Importamos e iniciamos spark"
   ]
  },
  {
   "cell_type": "code",
   "execution_count": 4,
   "metadata": {
    "executionInfo": {
     "elapsed": 7,
     "status": "ok",
     "timestamp": 1713551674365,
     "user": {
      "displayName": "Alvaro Racero Armario",
      "userId": "08455540552957370434"
     },
     "user_tz": -120
    },
    "id": "-PxnAud4NT82"
   },
   "outputs": [],
   "source": [
    "import findspark\n",
    "findspark.init()"
   ]
  },
  {
   "cell_type": "code",
   "execution_count": 5,
   "metadata": {
    "colab": {
     "base_uri": "https://localhost:8080/",
     "height": 219
    },
    "executionInfo": {
     "elapsed": 14390,
     "status": "ok",
     "timestamp": 1713551688750,
     "user": {
      "displayName": "Alvaro Racero Armario",
      "userId": "08455540552957370434"
     },
     "user_tz": -120
    },
    "id": "qeGbbluUNXN-",
    "outputId": "25a60a2a-3aad-4650-f2e5-8ebc00d685e4"
   },
   "outputs": [
    {
     "data": {
      "text/html": [
       "\n",
       "            <div>\n",
       "                <p><b>SparkSession - in-memory</b></p>\n",
       "                \n",
       "        <div>\n",
       "            <p><b>SparkContext</b></p>\n",
       "\n",
       "            <p><a href=\"http://0648ce3e6761:4040\">Spark UI</a></p>\n",
       "\n",
       "            <dl>\n",
       "              <dt>Version</dt>\n",
       "                <dd><code>v3.5.1</code></dd>\n",
       "              <dt>Master</dt>\n",
       "                <dd><code>local[*]</code></dd>\n",
       "              <dt>AppName</dt>\n",
       "                <dd><code>Entrega_APBD</code></dd>\n",
       "            </dl>\n",
       "        </div>\n",
       "        \n",
       "            </div>\n",
       "        "
      ],
      "text/plain": [
       "<pyspark.sql.session.SparkSession at 0x7bd580491a20>"
      ]
     },
     "execution_count": 5,
     "metadata": {},
     "output_type": "execute_result"
    }
   ],
   "source": [
    "from pyspark.sql import SparkSession\n",
    "spark = SparkSession.builder.master(\"local[*]\").appName(\"Entrega_APBD\") \\\n",
    "    .getOrCreate()\n",
    "#Cliente\n",
    "spark"
   ]
  },
  {
   "cell_type": "code",
   "execution_count": 6,
   "metadata": {
    "colab": {
     "base_uri": "https://localhost:8080/"
    },
    "executionInfo": {
     "elapsed": 4,
     "status": "ok",
     "timestamp": 1713551688751,
     "user": {
      "displayName": "Alvaro Racero Armario",
      "userId": "08455540552957370434"
     },
     "user_tz": -120
    },
    "id": "D7pR8N2NNZSW",
    "outputId": "f55be3b0-53b2-434d-8515-6ff9cd7c3e99"
   },
   "outputs": [
    {
     "data": {
      "text/plain": [
       "2"
      ]
     },
     "execution_count": 6,
     "metadata": {},
     "output_type": "execute_result"
    }
   ],
   "source": [
    "spark.sparkContext.defaultParallelism\n",
    "#Numero hilos ejecucion cluster (1 maquina de 2 hilos)"
   ]
  },
  {
   "cell_type": "markdown",
   "metadata": {
    "id": "cTskcUYHZ4b1"
   },
   "source": [
    "# Cargamos los archivos necesarios"
   ]
  },
  {
   "cell_type": "markdown",
   "metadata": {
    "id": "owefgE0mz2dc"
   },
   "source": [
    "Ruta donde tengo los archivos y donde voy a cargar mis resultados"
   ]
  },
  {
   "cell_type": "code",
   "execution_count": 38,
   "metadata": {
    "executionInfo": {
     "elapsed": 274,
     "status": "ok",
     "timestamp": 1713552429593,
     "user": {
      "displayName": "Alvaro Racero Armario",
      "userId": "08455540552957370434"
     },
     "user_tz": -120
    },
    "id": "jeeZkYq2NbIv"
   },
   "outputs": [],
   "source": [
    "input_path = '/content/drive/MyDrive/Practica_IPDB/data entrega/{}'\n",
    "#mi output va a ser un csv con el id de la casa y el precio estimado de test\n",
    "output_path= '/content/drive/MyDrive/Practica_IPDB/data entrega/output'"
   ]
  },
  {
   "cell_type": "markdown",
   "metadata": {
    "id": "0mV1P81pUHbN"
   },
   "source": [
    "Cargamos el dataset"
   ]
  },
  {
   "cell_type": "code",
   "execution_count": 8,
   "metadata": {
    "executionInfo": {
     "elapsed": 11357,
     "status": "ok",
     "timestamp": 1713551700106,
     "user": {
      "displayName": "Alvaro Racero Armario",
      "userId": "08455540552957370434"
     },
     "user_tz": -120
    },
    "id": "IkNPBfQRNdxe"
   },
   "outputs": [],
   "source": [
    "train = spark.read.csv(path=input_path.format('train.csv'), header=True, inferSchema=True, nullValue='NA')\n",
    "# Header=true ya que tienen nombre las columnas, inferschema para que detecte\n",
    "# los datos numericos, nullvalue=\"NA\" para que entienda los NA como nulos\n",
    "test = spark.read.csv(path=input_path.format('test.csv'), header=True, inferSchema=True, nullValue='NA')"
   ]
  },
  {
   "cell_type": "markdown",
   "metadata": {
    "id": "NvybcVB-0HvX"
   },
   "source": [
    "En el siguiente chunk di un primer vistazo al dataset. Lo he convertido en comentario para que no sea interminable el archivo"
   ]
  },
  {
   "cell_type": "code",
   "execution_count": 9,
   "metadata": {
    "executionInfo": {
     "elapsed": 247,
     "status": "ok",
     "timestamp": 1713551735023,
     "user": {
      "displayName": "Alvaro Racero Armario",
      "userId": "08455540552957370434"
     },
     "user_tz": -120
    },
    "id": "MvkBOzIfajvF"
   },
   "outputs": [],
   "source": [
    "#train.printSchema()\n",
    "#len(train.columns) #Vemos que tenemos 80 variables más la variable objetivo\n",
    "#train.show(10)"
   ]
  },
  {
   "cell_type": "code",
   "execution_count": 10,
   "metadata": {
    "colab": {
     "base_uri": "https://localhost:8080/"
    },
    "executionInfo": {
     "elapsed": 3017,
     "status": "ok",
     "timestamp": 1713551738461,
     "user": {
      "displayName": "Alvaro Racero Armario",
      "userId": "08455540552957370434"
     },
     "user_tz": -120
    },
    "id": "dS1V6IUK1urP",
    "outputId": "55ef65cc-ab8a-4228-f492-93680134b8fa"
   },
   "outputs": [
    {
     "name": "stdout",
     "output_type": "stream",
     "text": [
      "Observaciones en train: 1460\n",
      "Observaciones en test: 1459\n"
     ]
    }
   ],
   "source": [
    "print(f'Observaciones en train: {train.count()}') #Tenemos 1460 observaciones en train\n",
    "print(f'Observaciones en test: {test.count()}') #Tenemos 1459 observaciones en test\n"
   ]
  },
  {
   "cell_type": "markdown",
   "metadata": {
    "id": "vkhbtxTXatBv"
   },
   "source": [
    "# Preprocesado"
   ]
  },
  {
   "cell_type": "markdown",
   "metadata": {
    "id": "iD7TLBS80yv_"
   },
   "source": [
    "En las columnas donde NA no significa nulo vamos a ponerle el valor \"otros\" para que podamos usar esas variables correctamente"
   ]
  },
  {
   "cell_type": "code",
   "execution_count": 11,
   "metadata": {
    "executionInfo": {
     "elapsed": 1638,
     "status": "ok",
     "timestamp": 1713551740098,
     "user": {
      "displayName": "Alvaro Racero Armario",
      "userId": "08455540552957370434"
     },
     "user_tz": -120
    },
    "id": "WC3jcj0x1_RW"
   },
   "outputs": [],
   "source": [
    "#columnas donde NA no significa Nulo (informacion en la documentacion del dataset):\n",
    "col_cambiar=['Alley','BsmtQual', 'BsmtCond','BsmtExposure','BsmtFinType1','BsmtFinType2','FireplaceQu','GarageType',\n",
    "             'GarageFinish','GarageQual','GarageCond','PoolQC','Fence','MiscFeature']\n",
    "\n",
    "for col_name in col_cambiar:\n",
    "    train = train.fillna(\"otros\", subset=[col_name])"
   ]
  },
  {
   "cell_type": "markdown",
   "metadata": {
    "id": "NbUwGpcT1GVx"
   },
   "source": [
    "Ahora que nos hemos librado de los falsos nulos, vamos a ver que nulos quedan en el resto de variables y que hacer con ellos"
   ]
  },
  {
   "cell_type": "code",
   "execution_count": 12,
   "metadata": {
    "colab": {
     "base_uri": "https://localhost:8080/"
    },
    "executionInfo": {
     "elapsed": 3957,
     "status": "ok",
     "timestamp": 1713551744053,
     "user": {
      "displayName": "Alvaro Racero Armario",
      "userId": "08455540552957370434"
     },
     "user_tz": -120
    },
    "id": "e9O7B68if-e0",
    "outputId": "e5cca7ec-94a1-4c68-f884-a4ea7c3ddf3f"
   },
   "outputs": [
    {
     "name": "stdout",
     "output_type": "stream",
     "text": [
      "+-----------+----------+----------+----------+-----------+\n",
      "|LotFrontage|MasVnrType|MasVnrArea|Electrical|GarageYrBlt|\n",
      "+-----------+----------+----------+----------+-----------+\n",
      "|        259|         8|         8|         1|         81|\n",
      "+-----------+----------+----------+----------+-----------+\n",
      "\n"
     ]
    }
   ],
   "source": [
    "#Importamos el siguiente paquete para trabajar con consultas SQL en los dataframe\n",
    "import pyspark.sql.functions as F\n",
    "\n",
    "#Creamos funcion para mostrar las columnas con al menos un valor nulo y su recuento\n",
    "def mostrar_nulos(df):\n",
    "    # Calculamos el recuento de nulos para todas las columnas\n",
    "    null_counts = df.select([F.sum(F.col(c).isNull().cast(\"int\")).alias(c) for c in df.columns]).first().asDict()\n",
    "    # Filtramos solo las columnas que tienen al menos un valor nulo\n",
    "    columns_with_nulls = [c for c, count in null_counts.items() if count > 0]\n",
    "    # Hacemos la primera operacion pero solo para las columnas con nulos\n",
    "    exprs = [F.sum(F.col(c).isNull().cast(\"int\")).alias(c) for c in columns_with_nulls]\n",
    "    return df.agg(*exprs).show()\n",
    "\n",
    "mostrar_nulos(train)"
   ]
  },
  {
   "cell_type": "code",
   "execution_count": 13,
   "metadata": {
    "colab": {
     "base_uri": "https://localhost:8080/"
    },
    "executionInfo": {
     "elapsed": 3800,
     "status": "ok",
     "timestamp": 1713551747851,
     "user": {
      "displayName": "Alvaro Racero Armario",
      "userId": "08455540552957370434"
     },
     "user_tz": -120
    },
    "id": "FjSP5tMXT8rz",
    "outputId": "892a8549-829c-419b-8e3d-5fb13fffb343"
   },
   "outputs": [
    {
     "name": "stdout",
     "output_type": "stream",
     "text": [
      "+--------+-----------+---------+-----------+-----------+----------+----------+----------+----------+---------+-----------+------------+------------+-----------+----------+-----------+----------+----------+--------+\n",
      "|MSZoning|LotFrontage|Utilities|Exterior1st|Exterior2nd|MasVnrType|MasVnrArea|BsmtFinSF1|BsmtFinSF2|BsmtUnfSF|TotalBsmtSF|BsmtFullBath|BsmtHalfBath|KitchenQual|Functional|GarageYrBlt|GarageCars|GarageArea|SaleType|\n",
      "+--------+-----------+---------+-----------+-----------+----------+----------+----------+----------+---------+-----------+------------+------------+-----------+----------+-----------+----------+----------+--------+\n",
      "|       4|        227|        2|          1|          1|        16|        15|         1|         1|        1|          1|           2|           2|          1|         2|         78|         1|         1|       1|\n",
      "+--------+-----------+---------+-----------+-----------+----------+----------+----------+----------+---------+-----------+------------+------------+-----------+----------+-----------+----------+----------+--------+\n",
      "\n"
     ]
    }
   ],
   "source": [
    "#Hagamoslo tambien en test:\n",
    "for col_name in col_cambiar:\n",
    "    test = test.fillna(\"otros\", subset=[col_name])\n",
    "\n",
    "mostrar_nulos(test)"
   ]
  },
  {
   "cell_type": "markdown",
   "metadata": {
    "id": "wpCPavk51ghb"
   },
   "source": [
    "Vemos que en train y en test hay un exceso e nulos en las variables LotFrontage y GarageYrBlt (más de un 5% de todos los casos) Por tanto vamos a borrar estas variables."
   ]
  },
  {
   "cell_type": "code",
   "execution_count": 14,
   "metadata": {
    "executionInfo": {
     "elapsed": 2,
     "status": "ok",
     "timestamp": 1713551747851,
     "user": {
      "displayName": "Alvaro Racero Armario",
      "userId": "08455540552957370434"
     },
     "user_tz": -120
    },
    "id": "sLmvjPzUIvbJ"
   },
   "outputs": [],
   "source": [
    "#En test y en train hay un exceso de nulos en las variables LotFrontage y GarageYrBlt\n",
    "train=train.drop('LotFrontage','GarageYrBlt') #Borrada por exceso de nulos\n",
    "test=test.drop('LotFrontage','GarageYrBlt') #Borradas por exceso de nulos"
   ]
  },
  {
   "cell_type": "markdown",
   "metadata": {
    "id": "zLtW_wokikuW"
   },
   "source": [
    "Una vez eliminadas estas variables, vamos a eliminar las observaciones que contengan valores nulos:\n",
    "\n"
   ]
  },
  {
   "cell_type": "code",
   "execution_count": 15,
   "metadata": {
    "colab": {
     "base_uri": "https://localhost:8080/"
    },
    "executionInfo": {
     "elapsed": 794,
     "status": "ok",
     "timestamp": 1713551748644,
     "user": {
      "displayName": "Alvaro Racero Armario",
      "userId": "08455540552957370434"
     },
     "user_tz": -120
    },
    "id": "trTv-vUoJme5",
    "outputId": "fba6194c-889f-41dc-f52b-c0058cb9fac4"
   },
   "outputs": [
    {
     "data": {
      "text/plain": [
       "1451"
      ]
     },
     "execution_count": 15,
     "metadata": {},
     "output_type": "execute_result"
    }
   ],
   "source": [
    "train = train.na.drop()\n",
    "train.count() # Se borran 9 observaciones en train"
   ]
  },
  {
   "cell_type": "markdown",
   "metadata": {
    "id": "lBaoOD3GitAU"
   },
   "source": [
    "# Técnicas de machine learning"
   ]
  },
  {
   "cell_type": "markdown",
   "metadata": {
    "id": "KclDSYd64wjj"
   },
   "source": [
    "### Vectorizar variables"
   ]
  },
  {
   "cell_type": "markdown",
   "metadata": {
    "id": "OOKKyTVC5AeF"
   },
   "source": [
    "Es necesario vectorizar las variables para mejorar la eficiencia y para facilitar la manipulación en spark."
   ]
  },
  {
   "cell_type": "markdown",
   "metadata": {
    "id": "U9sJp5RH4i7W"
   },
   "source": [
    "Antes de vectorizar los datos es necesario transformar las variables categóricas de texto a indice y seleccionar las variables con las que haremos nuestro vector de \"features\"\n"
   ]
  },
  {
   "cell_type": "code",
   "execution_count": 16,
   "metadata": {
    "executionInfo": {
     "elapsed": 4,
     "status": "ok",
     "timestamp": 1713551748644,
     "user": {
      "displayName": "Alvaro Racero Armario",
      "userId": "08455540552957370434"
     },
     "user_tz": -120
    },
    "id": "pmvlrExNN4PI"
   },
   "outputs": [],
   "source": [
    "#Listado de variables categoricas que van a ser el input para ser transformadas en indices numericos\n",
    "col_input=[]\n",
    "#Listado de las nuevas variables creadas por StringIndexer\n",
    "col_output = []\n",
    "#Total de variables que vamos a usar para la regresion: van a ser las variables categoricas transformadas y las numericas\n",
    "selected_features=[]\n",
    "\n",
    "#Vemos que columnas son categoricas\n",
    "for col_name, col_type in train.dtypes:\n",
    "    if col_type == \"string\":\n",
    "        # Añado la columna categorica a la lista y preparo mis columnas seleccionadas\n",
    "        col_input.append(col_name)\n",
    "        col_output.append(col_name+\"_n\")\n",
    "        selected_features.append(col_name+\"_n\")\n",
    "    else:\n",
    "      #Al ser numericas aqui no hay que hacer nada\n",
    "      selected_features.append(col_name)\n",
    "\n",
    "selected_features.remove('Id') #eliminamos de la regresion una columna que solo es de identificacion\n",
    "selected_features.remove('SalePrice') #Eliminamos la variable objetivo del futuro vector\n",
    "\n",
    "#train.select(*col_input).show(5) #Columnas categoricas"
   ]
  },
  {
   "cell_type": "code",
   "execution_count": 17,
   "metadata": {
    "colab": {
     "base_uri": "https://localhost:8080/"
    },
    "executionInfo": {
     "elapsed": 4,
     "status": "ok",
     "timestamp": 1713551748644,
     "user": {
      "displayName": "Alvaro Racero Armario",
      "userId": "08455540552957370434"
     },
     "user_tz": -120
    },
    "id": "kqas-7zdcQ4X",
    "outputId": "29dbfd42-3f9e-4d33-cc76-ca2ea29f7917"
   },
   "outputs": [
    {
     "data": {
      "text/plain": [
       "77"
      ]
     },
     "execution_count": 17,
     "metadata": {},
     "output_type": "execute_result"
    }
   ],
   "source": [
    "len(selected_features) #Nos hemos quedado con 77 variables predictoras"
   ]
  },
  {
   "cell_type": "markdown",
   "metadata": {
    "id": "GZz44EEK7clq"
   },
   "source": [
    "Ya teniendo los listados podemos empezar a construir nuestros transformer y la pipeline, que nos permite ejecutar todos nuestros transformer de forma automática con una menor cantidad de líneas de código."
   ]
  },
  {
   "cell_type": "code",
   "execution_count": 18,
   "metadata": {
    "executionInfo": {
     "elapsed": 1008,
     "status": "ok",
     "timestamp": 1713551749881,
     "user": {
      "displayName": "Alvaro Racero Armario",
      "userId": "08455540552957370434"
     },
     "user_tz": -120
    },
    "id": "lBzkD5msQqaw"
   },
   "outputs": [],
   "source": [
    "#Cargamo librerias necesarias\n",
    "from pyspark.ml.feature import StringIndexer, IndexToString, VectorAssembler\n",
    "from pyspark.ml import Pipeline\n",
    "\n",
    "#Creamos el transformer de texto a indice\n",
    "cat_indexer_model = StringIndexer(inputCols=col_input,outputCols=col_output)\n",
    "\n",
    "#Creamos el transformer de las variables seleccionadas a vector\n",
    "assembler = VectorAssembler(inputCols= selected_features,outputCol='features')\n",
    "\n",
    "#Creamos el pipeline que tiene dos pasos: hacer la transformacion cat_indexer_model y luego el vector de \"features\"\n",
    "pipeline = Pipeline(stages=[cat_indexer_model,assembler])"
   ]
  },
  {
   "cell_type": "markdown",
   "metadata": {
    "id": "TaHffAeF8Yp0"
   },
   "source": [
    "Hay que tener en cuenta que todavía no se ha ejecutado nada, se puede ver en el tiempo de ejecucion del chunk de arriba. Ahora vamos a ejecutar nuestro pipeline sobre el conjunto de datos limpio \"train\":"
   ]
  },
  {
   "cell_type": "code",
   "execution_count": 19,
   "metadata": {
    "colab": {
     "base_uri": "https://localhost:8080/"
    },
    "executionInfo": {
     "elapsed": 5929,
     "status": "ok",
     "timestamp": 1713551755809,
     "user": {
      "displayName": "Alvaro Racero Armario",
      "userId": "08455540552957370434"
     },
     "user_tz": -120
    },
    "id": "ENDkd1SeZMnX",
    "outputId": "dc833df5-1afd-4394-ef35-34790980b4d4"
   },
   "outputs": [
    {
     "name": "stdout",
     "output_type": "stream",
     "text": [
      "+---+----------+--------+-------+------+-----+--------+-----------+---------+---------+---------+------------+----------+----------+--------+----------+-----------+-----------+---------+------------+---------+--------+-----------+-----------+----------+----------+---------+---------+----------+--------+--------+------------+------------+----------+------------+----------+---------+-----------+-------+---------+----------+----------+--------+--------+------------+---------+------------+------------+--------+--------+------------+------------+-----------+------------+----------+----------+-----------+----------+------------+----------+----------+----------+----------+----------+----------+-----------+-------------+---------+-----------+--------+------+-----+-----------+-------+------+------+--------+-------------+---------+----------+--------+-------+----------+-------------+-----------+-----------+-----------+--------------+------------+------------+----------+------------+-----------+----------+-------------+-------------+------------+-----------+-----------+------------+----------+----------+--------------+--------------+--------------+---------+-----------+------------+------------+-------------+------------+-------------+------------+--------------+------------+------------+------------+--------+-------+-------------+----------+---------------+--------------------+\n",
      "| Id|MSSubClass|MSZoning|LotArea|Street|Alley|LotShape|LandContour|Utilities|LotConfig|LandSlope|Neighborhood|Condition1|Condition2|BldgType|HouseStyle|OverallQual|OverallCond|YearBuilt|YearRemodAdd|RoofStyle|RoofMatl|Exterior1st|Exterior2nd|MasVnrType|MasVnrArea|ExterQual|ExterCond|Foundation|BsmtQual|BsmtCond|BsmtExposure|BsmtFinType1|BsmtFinSF1|BsmtFinType2|BsmtFinSF2|BsmtUnfSF|TotalBsmtSF|Heating|HeatingQC|CentralAir|Electrical|1stFlrSF|2ndFlrSF|LowQualFinSF|GrLivArea|BsmtFullBath|BsmtHalfBath|FullBath|HalfBath|BedroomAbvGr|KitchenAbvGr|KitchenQual|TotRmsAbvGrd|Functional|Fireplaces|FireplaceQu|GarageType|GarageFinish|GarageCars|GarageArea|GarageQual|GarageCond|PavedDrive|WoodDeckSF|OpenPorchSF|EnclosedPorch|3SsnPorch|ScreenPorch|PoolArea|PoolQC|Fence|MiscFeature|MiscVal|MoSold|YrSold|SaleType|SaleCondition|SalePrice|MSZoning_n|Street_n|Alley_n|LotShape_n|LandContour_n|Utilities_n|LotConfig_n|LandSlope_n|Neighborhood_n|Condition1_n|Condition2_n|BldgType_n|HouseStyle_n|RoofStyle_n|RoofMatl_n|Exterior1st_n|Exterior2nd_n|MasVnrType_n|ExterQual_n|ExterCond_n|Foundation_n|BsmtQual_n|BsmtCond_n|BsmtExposure_n|BsmtFinType1_n|BsmtFinType2_n|Heating_n|HeatingQC_n|CentralAir_n|Electrical_n|KitchenQual_n|Functional_n|FireplaceQu_n|GarageType_n|GarageFinish_n|GarageQual_n|GarageCond_n|PavedDrive_n|PoolQC_n|Fence_n|MiscFeature_n|SaleType_n|SaleCondition_n|            features|\n",
      "+---+----------+--------+-------+------+-----+--------+-----------+---------+---------+---------+------------+----------+----------+--------+----------+-----------+-----------+---------+------------+---------+--------+-----------+-----------+----------+----------+---------+---------+----------+--------+--------+------------+------------+----------+------------+----------+---------+-----------+-------+---------+----------+----------+--------+--------+------------+---------+------------+------------+--------+--------+------------+------------+-----------+------------+----------+----------+-----------+----------+------------+----------+----------+----------+----------+----------+----------+-----------+-------------+---------+-----------+--------+------+-----+-----------+-------+------+------+--------+-------------+---------+----------+--------+-------+----------+-------------+-----------+-----------+-----------+--------------+------------+------------+----------+------------+-----------+----------+-------------+-------------+------------+-----------+-----------+------------+----------+----------+--------------+--------------+--------------+---------+-----------+------------+------------+-------------+------------+-------------+------------+--------------+------------+------------+------------+--------+-------+-------------+----------+---------------+--------------------+\n",
      "|  1|        60|      RL|   8450|  Pave|otros|     Reg|        Lvl|   AllPub|   Inside|      Gtl|     CollgCr|      Norm|      Norm|    1Fam|    2Story|          7|          5|     2003|        2003|    Gable| CompShg|    VinylSd|    VinylSd|   BrkFace|       196|       Gd|       TA|     PConc|      Gd|      TA|          No|         GLQ|       706|         Unf|         0|      150|        856|   GasA|       Ex|         Y|     SBrkr|     856|     854|           0|     1710|           1|           0|       2|       1|           3|           1|         Gd|           8|       Typ|         0|      otros|    Attchd|         RFn|         2|       548|        TA|        TA|         Y|         0|         61|            0|        0|          0|       0| otros|otros|      otros|      0|     2|  2008|      WD|       Normal|   208500|       0.0|     0.0|    0.0|       0.0|          0.0|        0.0|        0.0|        0.0|           1.0|         0.0|         0.0|       0.0|         1.0|        0.0|       0.0|          0.0|          0.0|         1.0|        1.0|        0.0|         0.0|       1.0|       0.0|           0.0|           1.0|           0.0|      0.0|        0.0|         0.0|         0.0|          1.0|         0.0|          0.0|         0.0|           1.0|         0.0|         0.0|         0.0|     0.0|    0.0|          0.0|       0.0|            0.0|(77,[0,2,10,14,15...|\n",
      "|  2|        20|      RL|   9600|  Pave|otros|     Reg|        Lvl|   AllPub|      FR2|      Gtl|     Veenker|     Feedr|      Norm|    1Fam|    1Story|          6|          8|     1976|        1976|    Gable| CompShg|    MetalSd|    MetalSd|      None|         0|       TA|       TA|    CBlock|      Gd|      TA|          Gd|         ALQ|       978|         Unf|         0|      284|       1262|   GasA|       Ex|         Y|     SBrkr|    1262|       0|           0|     1262|           0|           1|       2|       0|           3|           1|         TA|           6|       Typ|         1|         TA|    Attchd|         RFn|         2|       460|        TA|        TA|         Y|       298|          0|            0|        0|          0|       0| otros|otros|      otros|      0|     5|  2007|      WD|       Normal|   181500|       0.0|     0.0|    0.0|       0.0|          0.0|        0.0|        3.0|        0.0|          22.0|         1.0|         0.0|       0.0|         0.0|        0.0|       0.0|          2.0|          1.0|         0.0|        0.0|        0.0|         1.0|       1.0|       0.0|           2.0|           2.0|           0.0|      0.0|        0.0|         0.0|         0.0|          0.0|         0.0|          2.0|         0.0|           1.0|         0.0|         0.0|         0.0|     0.0|    0.0|          0.0|       0.0|            0.0|(77,[0,2,8,10,11,...|\n",
      "|  3|        60|      RL|  11250|  Pave|otros|     IR1|        Lvl|   AllPub|   Inside|      Gtl|     CollgCr|      Norm|      Norm|    1Fam|    2Story|          7|          5|     2001|        2002|    Gable| CompShg|    VinylSd|    VinylSd|   BrkFace|       162|       Gd|       TA|     PConc|      Gd|      TA|          Mn|         GLQ|       486|         Unf|         0|      434|        920|   GasA|       Ex|         Y|     SBrkr|     920|     866|           0|     1786|           1|           0|       2|       1|           3|           1|         Gd|           6|       Typ|         1|         TA|    Attchd|         RFn|         2|       608|        TA|        TA|         Y|         0|         42|            0|        0|          0|       0| otros|otros|      otros|      0|     9|  2008|      WD|       Normal|   223500|       0.0|     0.0|    0.0|       1.0|          0.0|        0.0|        0.0|        0.0|           1.0|         0.0|         0.0|       0.0|         1.0|        0.0|       0.0|          0.0|          0.0|         1.0|        1.0|        0.0|         0.0|       1.0|       0.0|           3.0|           1.0|           0.0|      0.0|        0.0|         0.0|         0.0|          1.0|         0.0|          2.0|         0.0|           1.0|         0.0|         0.0|         0.0|     0.0|    0.0|          0.0|       0.0|            0.0|(77,[0,2,5,10,14,...|\n",
      "+---+----------+--------+-------+------+-----+--------+-----------+---------+---------+---------+------------+----------+----------+--------+----------+-----------+-----------+---------+------------+---------+--------+-----------+-----------+----------+----------+---------+---------+----------+--------+--------+------------+------------+----------+------------+----------+---------+-----------+-------+---------+----------+----------+--------+--------+------------+---------+------------+------------+--------+--------+------------+------------+-----------+------------+----------+----------+-----------+----------+------------+----------+----------+----------+----------+----------+----------+-----------+-------------+---------+-----------+--------+------+-----+-----------+-------+------+------+--------+-------------+---------+----------+--------+-------+----------+-------------+-----------+-----------+-----------+--------------+------------+------------+----------+------------+-----------+----------+-------------+-------------+------------+-----------+-----------+------------+----------+----------+--------------+--------------+--------------+---------+-----------+------------+------------+-------------+------------+-------------+------------+--------------+------------+------------+------------+--------+-------+-------------+----------+---------------+--------------------+\n",
      "only showing top 3 rows\n",
      "\n"
     ]
    }
   ],
   "source": [
    "preprocessing_pl = pipeline.fit(train)\n",
    "\n",
    "train_fin = preprocessing_pl.transform(train)\n",
    "train_fin.show(3)"
   ]
  },
  {
   "cell_type": "markdown",
   "metadata": {
    "id": "TYgshvng8qm3"
   },
   "source": [
    "Para que sea más simple la tabla y facil de leer, vamos a quedarnos solamente con las columnas features y la variable objetivo, la cual comenzaremos a llamar label:"
   ]
  },
  {
   "cell_type": "code",
   "execution_count": 20,
   "metadata": {
    "colab": {
     "base_uri": "https://localhost:8080/"
    },
    "executionInfo": {
     "elapsed": 1183,
     "status": "ok",
     "timestamp": 1713551756983,
     "user": {
      "displayName": "Alvaro Racero Armario",
      "userId": "08455540552957370434"
     },
     "user_tz": -120
    },
    "id": "AN7B4-_0d_Ue",
    "outputId": "417e61ee-74ae-4674-d766-87f1b150e92c"
   },
   "outputs": [
    {
     "name": "stdout",
     "output_type": "stream",
     "text": [
      "+--------------------+------+\n",
      "|            features| label|\n",
      "+--------------------+------+\n",
      "|(77,[0,2,10,14,15...|208500|\n",
      "|(77,[0,2,8,10,11,...|181500|\n",
      "|(77,[0,2,5,10,14,...|223500|\n",
      "+--------------------+------+\n",
      "only showing top 3 rows\n",
      "\n"
     ]
    }
   ],
   "source": [
    "#dataset features y etiquetas\n",
    "train_fin= train_fin.select(train_fin.features,train_fin.SalePrice.alias('label'))\n",
    "train_fin.show(3)"
   ]
  },
  {
   "cell_type": "markdown",
   "metadata": {
    "id": "jyYZiHlz8_WX"
   },
   "source": [
    "En el siguiente chunk podemos ver la correlacion de diferentes variables con la variable objetivo \"SalePrice\". Esto se podría usar para hacer una selección de variables más a fondo pero vamos a obviarlo por ahora."
   ]
  },
  {
   "cell_type": "code",
   "execution_count": 22,
   "metadata": {
    "colab": {
     "base_uri": "https://localhost:8080/"
    },
    "executionInfo": {
     "elapsed": 9434,
     "status": "ok",
     "timestamp": 1713551772610,
     "user": {
      "displayName": "Alvaro Racero Armario",
      "userId": "08455540552957370434"
     },
     "user_tz": -120
    },
    "id": "tkZ1qBKxrZcF",
    "outputId": "e45167df-34e9-4c52-d4ca-bacb90bbac44"
   },
   "outputs": [
    {
     "name": "stdout",
     "output_type": "stream",
     "text": [
      "+--------------------+--------------------+-------------------+--------------------+--------------------+-------------------+-------------------+--------------------+-------------------+--------------------+-------------------+--------------------+--------------------+--------------------+--------------------+------------------+--------------------+------------------+------------------+------------------+------------------+--------------------+--------------------+------------------+------------------+------------------+--------------------+-------------------+-------------------+-------------------+-----------------+--------------------+------------------+--------------------+--------------------+------------------+------------------+--------------------+--------------------+--------------------+--------------------+------------------+-------------------+--------------------+------------------+-------------------+--------------------+------------------+------------------+------------------+-------------------+------------------+------------------+-------------------+-------------------+------------------+-------------------+-------------------+------------------+------------------+--------------------+-------------------+--------------------+------------------+------------------+--------------------+-------------------+------------------+-------------------+------------------+--------------------+--------------------+--------------------+-------------------+--------------------+-------------------+--------------------+\n",
      "|          MSSubClass|          MSZoning_n|            LotArea|            Street_n|             Alley_n|         LotShape_n|      LandContour_n|         Utilities_n|        LotConfig_n|         LandSlope_n|     Neighborhood_n|        Condition1_n|        Condition2_n|          BldgType_n|        HouseStyle_n|       OverallQual|         OverallCond|         YearBuilt|      YearRemodAdd|       RoofStyle_n|        RoofMatl_n|       Exterior1st_n|       Exterior2nd_n|      MasVnrType_n|        MasVnrArea|       ExterQual_n|         ExterCond_n|       Foundation_n|         BsmtQual_n|         BsmtCond_n|   BsmtExposure_n|      BsmtFinType1_n|        BsmtFinSF1|      BsmtFinType2_n|          BsmtFinSF2|         BsmtUnfSF|       TotalBsmtSF|           Heating_n|         HeatingQC_n|        CentralAir_n|        Electrical_n|          1stFlrSF|           2ndFlrSF|        LowQualFinSF|         GrLivArea|       BsmtFullBath|        BsmtHalfBath|          FullBath|          HalfBath|      BedroomAbvGr|       KitchenAbvGr|     KitchenQual_n|      TotRmsAbvGrd|       Functional_n|         Fireplaces|     FireplaceQu_n|       GarageType_n|     GarageFinish_n|        GarageCars|        GarageArea|        GarageQual_n|       GarageCond_n|        PavedDrive_n|        WoodDeckSF|       OpenPorchSF|       EnclosedPorch|          3SsnPorch|       ScreenPorch|           PoolArea|          PoolQC_n|             Fence_n|       MiscFeature_n|             MiscVal|             MoSold|              YrSold|         SaleType_n|     SaleCondition_n|\n",
      "+--------------------+--------------------+-------------------+--------------------+--------------------+-------------------+-------------------+--------------------+-------------------+--------------------+-------------------+--------------------+--------------------+--------------------+--------------------+------------------+--------------------+------------------+------------------+------------------+------------------+--------------------+--------------------+------------------+------------------+------------------+--------------------+-------------------+-------------------+-------------------+-----------------+--------------------+------------------+--------------------+--------------------+------------------+------------------+--------------------+--------------------+--------------------+--------------------+------------------+-------------------+--------------------+------------------+-------------------+--------------------+------------------+------------------+------------------+-------------------+------------------+------------------+-------------------+-------------------+------------------+-------------------+-------------------+------------------+------------------+--------------------+-------------------+--------------------+------------------+------------------+--------------------+-------------------+------------------+-------------------+------------------+--------------------+--------------------+--------------------+-------------------+--------------------+-------------------+--------------------+\n",
      "|-0.08276049147653933|-0.18534259478061071|0.26466822224254827|-0.04098942156122...|-0.09389830383225847|0.27159530779004226|0.07456075242589331|-0.01428387906640887|0.09453526961005605|0.052251769700704546|0.14913674580437447|-0.02841521084753...|-0.00570869008621...|-0.17360154101862935|-0.08590297575277743|0.7900849201373091|-0.07636091142185628|0.5232737996488444|0.5074880521898558|0.1585794600851257|0.0787402662557274|-0.16370615126680926|-0.14236931025588853|0.3845937727370849|0.4774862196759676|0.5646180642163736|-0.12739106491256974|-0.4416416378605986|0.30266371084418836|-0.1779222623896699|0.151108933789055|-0.23890822341018655|0.3839946088853101|-0.08775746812855814|-0.01034983292409...|0.2157072751119234|0.6132992899680303|-0.10670541568556484|-0.36937633447636864|-0.25158405455920135|-0.23366382255450335|0.6069686642164591|0.32283963215210654|-0.02527686818909...|0.7100731003397662|0.22498819036769954|-0.01602091577357...|0.5627098330977751|0.2823306040749202|0.1719560004327653|-0.1374466007846515|0.4585803173731596|0.5363660897907171|-0.1079251065612589|0.46897260312131045|0.3370302451292558|-0.2468682286863858|0.29123135628961144|0.6397492861021665|0.6224835657300107|-0.16228308646927056|-0.2148511936614416|-0.20893976305402098|0.3246584901508165|0.3112435852842798|-0.12882599846155104|0.04523452107608973|0.1130169169330167|0.09310180007838757|0.0930838929616893|-0.15227814625956773|-0.06076477048175...|-0.02096107933177...|0.04508460129581775|-0.02616477994449...|0.07936542352227914|0.001806479211280...|\n",
      "+--------------------+--------------------+-------------------+--------------------+--------------------+-------------------+-------------------+--------------------+-------------------+--------------------+-------------------+--------------------+--------------------+--------------------+--------------------+------------------+--------------------+------------------+------------------+------------------+------------------+--------------------+--------------------+------------------+------------------+------------------+--------------------+-------------------+-------------------+-------------------+-----------------+--------------------+------------------+--------------------+--------------------+------------------+------------------+--------------------+--------------------+--------------------+--------------------+------------------+-------------------+--------------------+------------------+-------------------+--------------------+------------------+------------------+------------------+-------------------+------------------+------------------+-------------------+-------------------+------------------+-------------------+-------------------+------------------+------------------+--------------------+-------------------+--------------------+------------------+------------------+--------------------+-------------------+------------------+-------------------+------------------+--------------------+--------------------+--------------------+-------------------+--------------------+-------------------+--------------------+\n",
      "\n"
     ]
    }
   ],
   "source": [
    "#Correlacion variables\n",
    "from pyspark.sql.functions import corr\n",
    "train_corr = preprocessing_pl.transform(train)\n",
    "correlation = train_corr.select([corr('SalePrice', col).alias(col) for col in selected_features])\n",
    "\n",
    "# Muestra la correlación\n",
    "correlation.show()"
   ]
  },
  {
   "cell_type": "markdown",
   "metadata": {
    "id": "rkBUjKCj-WA9"
   },
   "source": [
    "Reduccion de la dimensionalidad mediante el Analisis de las componentes principales"
   ]
  },
  {
   "cell_type": "code",
   "execution_count": 23,
   "metadata": {
    "executionInfo": {
     "elapsed": 9,
     "status": "ok",
     "timestamp": 1713551772610,
     "user": {
      "displayName": "Alvaro Racero Armario",
      "userId": "08455540552957370434"
     },
     "user_tz": -120
    },
    "id": "10ScRqoWa_wn"
   },
   "outputs": [],
   "source": [
    "#Intento de Reduccion dimensionalidad mediante analisis componentes principales. Da un RMSE malo y no ha sido posible usarlo\n",
    "#from pyspark.ml.feature import PCA\n",
    "#pca = PCA(k=2, inputCol=\"features\", outputCol=\"pca_features\")\n",
    "#model = pca.fit(train_fin)\n",
    "#result = model.transform(train_fin)\n",
    "#result.show(3)"
   ]
  },
  {
   "cell_type": "markdown",
   "metadata": {
    "id": "VxGeK_vv-_gi"
   },
   "source": [
    "Antes de comenzar la regresión, vamos a dividir el conjunto test en entrenamiento y validación, ya que tenemos que ver el rendimiento de los modelos sin que estos hayan sido usados en el entrenamiento:"
   ]
  },
  {
   "cell_type": "code",
   "execution_count": 24,
   "metadata": {
    "executionInfo": {
     "elapsed": 266,
     "status": "ok",
     "timestamp": 1713551775594,
     "user": {
      "displayName": "Alvaro Racero Armario",
      "userId": "08455540552957370434"
     },
     "user_tz": -120
    },
    "id": "krNZu8z5_cZM"
   },
   "outputs": [],
   "source": [
    "#Dividimos el conjunto en 80% entrenamiento 20% validacion\n",
    "(trainingData, testData) = train_fin.randomSplit([0.8, 0.2])\n",
    "\n",
    "#Vamos a crear una funcion para evaluar nuestros modelos\n",
    "from pyspark.ml.evaluation import RegressionEvaluator\n",
    "def evaluador(val,modelo):\n",
    "  #Creamos predicciones con el conjunto de datos test\n",
    "  predictions = modelo.transform(val)\n",
    "  eval = RegressionEvaluator(\n",
    "      labelCol=\"label\", predictionCol=\"prediction\", metricName=\"rmse\")\n",
    "  rmse = eval.evaluate(predictions)\n",
    "  print(\"RMSE on test data = %g\" % rmse)\n",
    "\n",
    "  eval = RegressionEvaluator(\n",
    "      labelCol=\"label\", predictionCol=\"prediction\", metricName=\"r2\")\n",
    "  r2 = eval.evaluate(predictions)\n",
    "  print(\"R2 on test data = %g\" % r2)\n",
    "\n",
    "#Creamos una funcion para obtener los mejores hiperparámetros de los modelos mediante validacion cruzada\n",
    "from pyspark.ml.tuning import ParamGridBuilder, CrossValidator\n",
    "def crossval(estimador,grid):\n",
    "  # Evaluador para mejorar rmse\n",
    "  eval = RegressionEvaluator(labelCol='label', predictionCol='prediction', metricName='rmse')\n",
    "  crossval = CrossValidator(estimator=estimador,\n",
    "                            estimatorParamMaps=grid,\n",
    "                            evaluator=eval,\n",
    "                            numFolds=4)  # número de divisiones en la validación cruzada\n",
    "  # Entrenamos el modelo mediante validacion cruzada con el dataset train completo\n",
    "  cv_model = crossval.fit(trainingData) ################train_fin\n",
    "  # Encuentra el mejor modelo\n",
    "  return cv_model"
   ]
  },
  {
   "cell_type": "markdown",
   "metadata": {
    "id": "y6vlhsvb-el6"
   },
   "source": [
    "## Regresión lineal"
   ]
  },
  {
   "cell_type": "markdown",
   "metadata": {
    "id": "uBQW_wzX-k-Y"
   },
   "source": [
    "Primero vamos a comenzar con un modelo sencillo, la regresión lineal clásica. Veamos que resultados da:"
   ]
  },
  {
   "cell_type": "code",
   "execution_count": 25,
   "metadata": {
    "colab": {
     "base_uri": "https://localhost:8080/"
    },
    "executionInfo": {
     "elapsed": 10915,
     "status": "ok",
     "timestamp": 1713551790563,
     "user": {
      "displayName": "Alvaro Racero Armario",
      "userId": "08455540552957370434"
     },
     "user_tz": -120
    },
    "id": "LGUz4BLOp5cC",
    "outputId": "8c97f22a-8701-4788-f56d-18b766ea4fab"
   },
   "outputs": [
    {
     "name": "stdout",
     "output_type": "stream",
     "text": [
      "RMSE on test data = 39858.3\n",
      "R2 on test data = 0.797441\n"
     ]
    }
   ],
   "source": [
    "#Regresion lineal\n",
    "from pyspark.ml.regression import LinearRegression\n",
    "\n",
    "#Creamos el modelo\n",
    "lr = LinearRegression(featuresCol = 'features', labelCol='label')\n",
    "\n",
    "#Entrenamos el modelo\n",
    "lr_model = lr.fit(trainingData)\n",
    "\n",
    "#Usaremos la funcion evaluador ya creada para evaluar nuestro modelo sobre testData\n",
    "evaluador(testData,lr_model)"
   ]
  },
  {
   "cell_type": "markdown",
   "metadata": {
    "id": "idfN0oz1BnGr"
   },
   "source": [
    "El resultado no es nada malo, pero tenemos que compararlo con otros modelos para tener una visión clara"
   ]
  },
  {
   "cell_type": "markdown",
   "metadata": {
    "id": "2ozHqtIcX7Ld"
   },
   "source": [
    "Antes de pasar a otros modelos vamos a ajustar los hiperparámetros de la regresión lineal:"
   ]
  },
  {
   "cell_type": "code",
   "execution_count": 26,
   "metadata": {
    "colab": {
     "base_uri": "https://localhost:8080/"
    },
    "executionInfo": {
     "elapsed": 70022,
     "status": "ok",
     "timestamp": 1713551860576,
     "user": {
      "displayName": "Alvaro Racero Armario",
      "userId": "08455540552957370434"
     },
     "user_tz": -120
    },
    "id": "QU1sK3ycW1LT",
    "outputId": "213b90f2-046e-4264-9cde-563a5d86b746"
   },
   "outputs": [
    {
     "name": "stdout",
     "output_type": "stream",
     "text": [
      "MaxIter: 10\n",
      "RegParam: 0.01\n",
      "ElasticNetParam: 0.5\n"
     ]
    }
   ],
   "source": [
    "# mejores hiperparametros regresion lineal\n",
    "\n",
    "param_grid = ParamGridBuilder() \\\n",
    "    .addGrid(lr.maxIter, [10, 20]) \\\n",
    "    .addGrid(lr.regParam, [0.0, 0.01, 0.1]) \\\n",
    "    .addGrid(lr.elasticNetParam, [0.0, 0.5, 1.0]) \\\n",
    "    .build()\n",
    "\n",
    "best_lr = crossval(lr,param_grid)\n",
    "#hiperparámetros del mejor modelo\n",
    "print(\"MaxIter:\", best_lr.bestModel.getMaxIter())\n",
    "print(\"RegParam:\", best_lr.bestModel.getRegParam())\n",
    "print(\"ElasticNetParam:\", best_lr.bestModel.getElasticNetParam())"
   ]
  },
  {
   "cell_type": "markdown",
   "metadata": {
    "id": "M9YI7xPAYYpt"
   },
   "source": [
    "Modelo de regresion lineal ajustado:"
   ]
  },
  {
   "cell_type": "code",
   "execution_count": 27,
   "metadata": {
    "colab": {
     "base_uri": "https://localhost:8080/"
    },
    "executionInfo": {
     "elapsed": 873,
     "status": "ok",
     "timestamp": 1713551861447,
     "user": {
      "displayName": "Alvaro Racero Armario",
      "userId": "08455540552957370434"
     },
     "user_tz": -120
    },
    "id": "baEU3fbAefqe",
    "outputId": "1e67c3ae-663b-4b4c-fe68-4af59d37c8d3"
   },
   "outputs": [
    {
     "name": "stdout",
     "output_type": "stream",
     "text": [
      "RMSE on test data = 38307.9\n",
      "R2 on test data = 0.812894\n"
     ]
    }
   ],
   "source": [
    "#lr = LinearRegression(featuresCol = 'features', labelCol='label', maxIter=10, regParam=0.01, elasticNetParam=0.5)\n",
    "evaluador(testData,best_lr)"
   ]
  },
  {
   "cell_type": "markdown",
   "metadata": {
    "id": "5IYagvweZppU"
   },
   "source": [
    "Con el ajuste de hiperparámetros tenemos una ligera mejora del modelo. Veamos que tal con una regresión de random forest:"
   ]
  },
  {
   "cell_type": "markdown",
   "metadata": {
    "id": "lADEbJ6cBHrV"
   },
   "source": [
    "## Random forest (regresion)"
   ]
  },
  {
   "cell_type": "code",
   "execution_count": 28,
   "metadata": {
    "colab": {
     "base_uri": "https://localhost:8080/"
    },
    "executionInfo": {
     "elapsed": 8178,
     "status": "ok",
     "timestamp": 1713551869624,
     "user": {
      "displayName": "Alvaro Racero Armario",
      "userId": "08455540552957370434"
     },
     "user_tz": -120
    },
    "id": "BuLLiA22XwbL",
    "outputId": "504eff6a-33a1-4cef-bd68-8242a8fa4cd3"
   },
   "outputs": [
    {
     "name": "stdout",
     "output_type": "stream",
     "text": [
      "RMSE on test data = 37352.9\n",
      "R2 on test data = 0.822107\n"
     ]
    }
   ],
   "source": [
    "# Random forest\n",
    "from pyspark.ml.regression import RandomForestRegressor\n",
    "\n",
    "#Hacemos los mismos pasos que el modelo anterior\n",
    "rf = RandomForestRegressor(featuresCol=\"features\",labelCol=\"label\")\n",
    "rf_model= rf.fit(trainingData)\n",
    "\n",
    "#Usaremos la funcion evaluador ya creada para evaluar nuestro modelo\n",
    "evaluador(testData,rf_model)"
   ]
  },
  {
   "cell_type": "markdown",
   "metadata": {
    "id": "UJ5r1HnjBaB6"
   },
   "source": [
    "El modelo Random Forest da mejores resultados a priori que el lineal, pero para tomar una decisión final tenemos que ajustar los hiperparámetros:"
   ]
  },
  {
   "cell_type": "code",
   "execution_count": 29,
   "metadata": {
    "colab": {
     "base_uri": "https://localhost:8080/"
    },
    "executionInfo": {
     "elapsed": 309898,
     "status": "ok",
     "timestamp": 1713552179520,
     "user": {
      "displayName": "Alvaro Racero Armario",
      "userId": "08455540552957370434"
     },
     "user_tz": -120
    },
    "id": "uuJnSR_Nih0W",
    "outputId": "9527d1ad-8fb0-4d89-89a6-9c333da68882"
   },
   "outputs": [
    {
     "name": "stdout",
     "output_type": "stream",
     "text": [
      "MaxDepth: 10\n",
      "MaxBins: 30\n",
      "NumTrees: 50\n"
     ]
    }
   ],
   "source": [
    "#Malla de hiperparámetros random forest regression\n",
    "param_grid = ParamGridBuilder() \\\n",
    "    .addGrid(rf.maxDepth, [2, 5, 10]) \\\n",
    "    .addGrid(rf.maxBins, [25,30,40]) \\\n",
    "    .addGrid(rf.numTrees, [5, 20, 50]) \\\n",
    "    .build()\n",
    "\n",
    "# Encuentra el mejor modelo\n",
    "best_rf = crossval(rf,param_grid)\n",
    "\n",
    "#Con la regresion random forest el modelo\n",
    "\n",
    "# Muestra los hiperparámetros del mejor modelo\n",
    "print(\"MaxDepth:\", best_rf.bestModel.getMaxDepth())\n",
    "print(\"MaxBins:\", best_rf.bestModel.getMaxBins())\n",
    "print(\"NumTrees:\", best_rf.bestModel.getNumTrees)"
   ]
  },
  {
   "cell_type": "code",
   "execution_count": 30,
   "metadata": {
    "colab": {
     "base_uri": "https://localhost:8080/"
    },
    "executionInfo": {
     "elapsed": 1077,
     "status": "ok",
     "timestamp": 1713552180595,
     "user": {
      "displayName": "Alvaro Racero Armario",
      "userId": "08455540552957370434"
     },
     "user_tz": -120
    },
    "id": "j-sEGJzdbvud",
    "outputId": "64940888-e5f1-4e62-a8f9-11130d635542"
   },
   "outputs": [
    {
     "name": "stdout",
     "output_type": "stream",
     "text": [
      "RMSE on test data = 32725.5\n",
      "R2 on test data = 0.863452\n"
     ]
    }
   ],
   "source": [
    "#No necesito crearlo de nuevo porque ya lo tengo creado con la validacion cruzada\n",
    "#rf = RandomForestRegressor(featuresCol=\"features\",labelCol=\"label\",maxDepth=10,maxBins=30,numTrees=20)\n",
    "#best_rf= rf.fit(trainingData)\n",
    "evaluador(testData,best_rf)\n"
   ]
  },
  {
   "cell_type": "markdown",
   "metadata": {
    "id": "kee7gYtXaBVF"
   },
   "source": [
    "En este modelo si vemos una clara mejoría al ajustar los hiperparámetros, siendo superior que el modelo de regresion lineal ajustado. Usaremos este modelo debido que es el que menor rmse nos devuelve."
   ]
  },
  {
   "cell_type": "markdown",
   "metadata": {
    "id": "USdt4KsVwwbR"
   },
   "source": [
    "\n",
    "\n",
    "> **RMS**\n",
    "\n"
   ]
  },
  {
   "cell_type": "markdown",
   "metadata": {
    "id": "gdJAdYh3QsHS"
   },
   "source": [
    "# Solucion al problema (predicciones sobre test)"
   ]
  },
  {
   "cell_type": "markdown",
   "metadata": {
    "id": "oo9WBNIot7kp"
   },
   "source": [
    "Ya solo nos queda generar unas predicciones del precio de las viviendas del conjunto test para participar en el reto."
   ]
  },
  {
   "cell_type": "markdown",
   "metadata": {
    "id": "QOVK-CBmCEUV"
   },
   "source": [
    "Debido a que ya tenemos construida la pipeline para preprocesar los datos, solamente necesitamos trabajar los valores nulos de test y crear un dataframe con el \"ID\" para reconocer las variables y su vector de \"features\""
   ]
  },
  {
   "cell_type": "code",
   "execution_count": 31,
   "metadata": {
    "colab": {
     "base_uri": "https://localhost:8080/"
    },
    "executionInfo": {
     "elapsed": 2524,
     "status": "ok",
     "timestamp": 1713552274087,
     "user": {
      "displayName": "Alvaro Racero Armario",
      "userId": "08455540552957370434"
     },
     "user_tz": -120
    },
    "id": "q59opy8lYbKA",
    "outputId": "101ccdfb-21e1-423c-b871-919ba767be6e"
   },
   "outputs": [
    {
     "name": "stdout",
     "output_type": "stream",
     "text": [
      "+----+--------------------+\n",
      "|  Id|            features|\n",
      "+----+--------------------+\n",
      "|1461|(77,[0,1,2,11,15,...|\n",
      "|1462|(77,[0,2,5,8,15,1...|\n",
      "|1463|(77,[0,2,5,10,14,...|\n",
      "+----+--------------------+\n",
      "only showing top 3 rows\n",
      "\n"
     ]
    }
   ],
   "source": [
    "#Hacemos todo el preprocesado a test tambien, creamos el vector características con su ID\n",
    "test = test.na.drop()\n",
    "\n",
    "preprocessing_pl = pipeline.fit(test)\n",
    "test_fin = preprocessing_pl.transform(test)\n",
    "test_fin= test_fin.select(\"Id\",test_fin.features)\n",
    "test_fin.show(3)"
   ]
  },
  {
   "cell_type": "markdown",
   "metadata": {
    "id": "3aT5pP0SCa0U"
   },
   "source": [
    "Crearemos las predicciones sobre nuestro mejor modelo y seleccionaremos mediante select el id y el valor de la casa que queremos predecir."
   ]
  },
  {
   "cell_type": "code",
   "execution_count": 42,
   "metadata": {
    "colab": {
     "base_uri": "https://localhost:8080/"
    },
    "executionInfo": {
     "elapsed": 928,
     "status": "ok",
     "timestamp": 1713553109081,
     "user": {
      "displayName": "Alvaro Racero Armario",
      "userId": "08455540552957370434"
     },
     "user_tz": -120
    },
    "id": "L5QJmqk7pX9F",
    "outputId": "e6d01cb0-4779-4546-d6a4-806abff616f3"
   },
   "outputs": [
    {
     "name": "stdout",
     "output_type": "stream",
     "text": [
      "+----+------------------+\n",
      "|  Id|        prediction|\n",
      "+----+------------------+\n",
      "|1461|126688.06916058424|\n",
      "|1462|148430.75902223002|\n",
      "|1463|190921.94476800333|\n",
      "+----+------------------+\n",
      "only showing top 3 rows\n",
      "\n"
     ]
    }
   ],
   "source": [
    "pred = best_rf.transform(test_fin)\n",
    "\n",
    "pred = pred.select(\"Id\",\"prediction\")\n",
    "pred.show(3)"
   ]
  },
  {
   "cell_type": "markdown",
   "metadata": {
    "id": "OXgXNBmJCqDq"
   },
   "source": [
    "Finalmente crearemos un archivo CSV y lo mandaremos al output que está establecido en las primeras lineas. Este archivo es el que habría que mandar a la competición."
   ]
  },
  {
   "cell_type": "code",
   "execution_count": 43,
   "metadata": {
    "executionInfo": {
     "elapsed": 2418,
     "status": "ok",
     "timestamp": 1713553117686,
     "user": {
      "displayName": "Alvaro Racero Armario",
      "userId": "08455540552957370434"
     },
     "user_tz": -120
    },
    "id": "NJ6KWrwE1L89"
   },
   "outputs": [],
   "source": [
    "#Guardamos los resultados\n",
    "pred.write.csv(output_path,header=True,mode=\"overwrite\")"
   ]
  }
 ],
 "metadata": {
  "colab": {
   "authorship_tag": "ABX9TyMBtIt1MJKBJZQO6Q0r7C+r",
   "provenance": []
  },
  "kernelspec": {
   "display_name": "Python 3 (ipykernel)",
   "language": "python",
   "name": "python3"
  },
  "language_info": {
   "codemirror_mode": {
    "name": "ipython",
    "version": 3
   },
   "file_extension": ".py",
   "mimetype": "text/x-python",
   "name": "python",
   "nbconvert_exporter": "python",
   "pygments_lexer": "ipython3",
   "version": "3.11.5"
  }
 },
 "nbformat": 4,
 "nbformat_minor": 1
}
